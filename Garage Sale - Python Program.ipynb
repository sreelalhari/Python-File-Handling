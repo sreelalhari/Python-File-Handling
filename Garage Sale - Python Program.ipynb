{
 "cells": [
  {
   "cell_type": "markdown",
   "id": "a401fe47",
   "metadata": {},
   "source": [
    "# Programming Challenge for File Handling \n"
   ]
  },
  {
   "cell_type": "markdown",
   "id": "629db717",
   "metadata": {},
   "source": [
    "## Program- Garage Sale|"
   ]
  },
  {
   "cell_type": "markdown",
   "id": "893932ba",
   "metadata": {},
   "source": [
    "When people want to get rid of unwanted items in their house, they sometimes have a garage sale. A program is required to store garage sale items and their prices. The program should have a main program and two procedures:\n",
    "1. Each time program starts, users are asked to enter a description of an item for sale and the item's price. Each description and price entered should be added to enter more items until the user enters a trigger input that stops the program asking for the next item\n",
    "\n",
    "2. The program should then display alist of every stored items description and price"
   ]
  },
  {
   "cell_type": "code",
   "execution_count": 13,
   "id": "feb595b4",
   "metadata": {},
   "outputs": [],
   "source": [
    "#procedure 1\n",
    "def addlist():\n",
    "    with open(\"garrage.txt\",\"a\") as file:\n",
    "        print(\"Please enter description\")\n",
    "        item=input()\n",
    "        while True:\n",
    "            if item==\"X\":\n",
    "                break\n",
    "            else:\n",
    "                print(\"Please enter the price\")\n",
    "                price=float(input())\n",
    "                file.write(item+\",\"+str(price)+\"\\n\")\n",
    "                print(\"Please enter description\")\n",
    "                item=input()\n",
    "    return file\n",
    "\n",
    "#procedure 2\n",
    "def printlist():\n",
    "    full_list=[]\n",
    "    with open(\"garrage.txt\",\"r\") as file:\n",
    "        for i in file.readlines():\n",
    "            full_list.append(i[0:-1])\n",
    "    k=len(full_list)\n",
    "    print(\"The current stored list of items for sale are:\")\n",
    "    temp_list=[]\n",
    "    for j in range(k):\n",
    "        temp_list=full_list[j].split(\",\")\n",
    "        print(temp_list[0],temp_list[1],\"Rupees\")     "
   ]
  },
  {
   "cell_type": "code",
   "execution_count": 9,
   "id": "6df88dad",
   "metadata": {},
   "outputs": [
    {
     "name": "stdout",
     "output_type": "stream",
     "text": [
      "Please enter description\n",
      "Lego Car (about 20 pieces)\n",
      "Please enter the price\n",
      "1.50\n",
      "Please enter description\n",
      "Adult tennis Racquet\n",
      "Please enter the price\n",
      "3.20\n",
      "Please enter description\n",
      "Bedside Cabinet\n",
      "Please enter the price\n",
      "10.00\n",
      "Please enter description\n",
      "X\n"
     ]
    },
    {
     "data": {
      "text/plain": [
       "<_io.TextIOWrapper name='garrage.txt' mode='a' encoding='cp1252'>"
      ]
     },
     "execution_count": 9,
     "metadata": {},
     "output_type": "execute_result"
    }
   ],
   "source": [
    "addlist()"
   ]
  },
  {
   "cell_type": "code",
   "execution_count": 14,
   "id": "2ecb212f",
   "metadata": {},
   "outputs": [
    {
     "name": "stdout",
     "output_type": "stream",
     "text": [
      "The current stored list of items for sale are:\n",
      "Lego Car (about 20 pieces) 1.5 Rupees\n",
      "Adult tennis Racquet 3.2 Rupees\n",
      "Bedside Cabinet 10.0 Rupees\n"
     ]
    }
   ],
   "source": [
    "printlist()"
   ]
  },
  {
   "cell_type": "code",
   "execution_count": null,
   "id": "73997a52",
   "metadata": {},
   "outputs": [],
   "source": []
  }
 ],
 "metadata": {
  "kernelspec": {
   "display_name": "Python 3",
   "language": "python",
   "name": "python3"
  },
  "language_info": {
   "codemirror_mode": {
    "name": "ipython",
    "version": 3
   },
   "file_extension": ".py",
   "mimetype": "text/x-python",
   "name": "python",
   "nbconvert_exporter": "python",
   "pygments_lexer": "ipython3",
   "version": "3.8.8"
  }
 },
 "nbformat": 4,
 "nbformat_minor": 5
}
