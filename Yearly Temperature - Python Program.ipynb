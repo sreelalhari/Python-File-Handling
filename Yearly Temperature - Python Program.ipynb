{
 "cells": [
  {
   "cell_type": "markdown",
   "id": "35bc7658",
   "metadata": {},
   "source": [
    "#### Sreelal H"
   ]
  },
  {
   "cell_type": "markdown",
   "id": "ab4a5058",
   "metadata": {},
   "source": [
    "# Programming Challenge for File Handling \n"
   ]
  },
  {
   "cell_type": "markdown",
   "id": "dfd864ad",
   "metadata": {},
   "source": [
    "## Program - Yearly temperatures"
   ]
  },
  {
   "cell_type": "markdown",
   "id": "ed72cb32",
   "metadata": {},
   "source": [
    "A file called \"yearTemperature.txt\" contains 52 rows of average daily temperature readings in the following format: Weeknumber,day1,day2,day3,day4,day5,day6,day7,\\n.\n",
    "An example is : 3,12,13,10,8,6,7\\n\n",
    "\n",
    "Write a program that asks the user to enter a range of weeks. the program should calculate the overall average temperature for those days of the year."
   ]
  },
  {
   "cell_type": "code",
   "execution_count": 44,
   "id": "109b9466",
   "metadata": {},
   "outputs": [],
   "source": [
    "#creating file\n",
    "import random\n",
    "with open(\"yearTemperature.txt\",\"w\") as file:\n",
    "    for i in range(52):\n",
    "        file.write(str(i+1))\n",
    "        for j in range(7):\n",
    "            k=random.randint(7,15)\n",
    "            file.write(\",\"+str(k))\n",
    "        file.write(\"\\n\")"
   ]
  },
  {
   "cell_type": "code",
   "execution_count": 48,
   "id": "71ca1fe7",
   "metadata": {},
   "outputs": [
    {
     "name": "stdout",
     "output_type": "stream",
     "text": [
      "Please enter the starting week\n",
      "13\n",
      "Please enter the final week\n",
      "17\n",
      "The average temperature for weeks 13 to 17\n",
      "10.14 degrees\n"
     ]
    }
   ],
   "source": [
    "print(\"Please enter the starting week\")\n",
    "start=int(input())\n",
    "print(\"Please enter the final week\")\n",
    "final=int(input())\n",
    "year_temp=[]\n",
    "with open(\"yearTemperature.txt\",\"r\") as file:\n",
    "    for k in file.readlines():\n",
    "        year_temp.append(k[0:-1])\n",
    "week_temp=[]\n",
    "total=0\n",
    "for m in range(start-1,final):\n",
    "    week_temp=year_temp[m].split(\",\")\n",
    "    week_temp.pop(0)\n",
    "    for n in range(7):\n",
    "        x=int(week_temp[n])\n",
    "        total=total+x\n",
    "average=round(total/((final-start+1)*7),2)\n",
    "print(\"The average temperature for weeks\",start,\"to\",final)\n",
    "print(average,\"degrees\") "
   ]
  },
  {
   "cell_type": "code",
   "execution_count": null,
   "id": "2c86dd4c",
   "metadata": {},
   "outputs": [],
   "source": []
  },
  {
   "cell_type": "code",
   "execution_count": null,
   "id": "7c87dbe6",
   "metadata": {},
   "outputs": [],
   "source": []
  },
  {
   "cell_type": "code",
   "execution_count": null,
   "id": "0fb13d1e",
   "metadata": {},
   "outputs": [],
   "source": []
  }
 ],
 "metadata": {
  "kernelspec": {
   "display_name": "Python 3",
   "language": "python",
   "name": "python3"
  },
  "language_info": {
   "codemirror_mode": {
    "name": "ipython",
    "version": 3
   },
   "file_extension": ".py",
   "mimetype": "text/x-python",
   "name": "python",
   "nbconvert_exporter": "python",
   "pygments_lexer": "ipython3",
   "version": "3.8.8"
  }
 },
 "nbformat": 4,
 "nbformat_minor": 5
}
